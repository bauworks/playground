{
 "cells": [
  {
   "cell_type": "code",
   "execution_count": null,
   "metadata": {
    "colab": {
     "base_uri": "https://localhost:8080/",
     "height": 35
    },
    "colab_type": "code",
    "executionInfo": {
     "elapsed": 620,
     "status": "ok",
     "timestamp": 1593503236979,
     "user": {
      "displayName": "古川博宣",
      "photoUrl": "",
      "userId": "12458478728571275787"
     },
     "user_tz": -540
    },
    "id": "A3TENJ0JcO2F",
    "outputId": "63313133-3763-4fa3-feb0-04edf2775fcc"
   },
   "outputs": [],
   "source": [
    "target = \"123+4*5-67/8\"\n",
    "if target[0] != \"-\" :\n",
    "  target = \"+\" + target\n",
    "target"
   ]
  },
  {
   "cell_type": "code",
   "execution_count": null,
   "metadata": {
    "colab": {
     "base_uri": "https://localhost:8080/",
     "height": 102
    },
    "colab_type": "code",
    "executionInfo": {
     "elapsed": 620,
     "status": "ok",
     "timestamp": 1593503239893,
     "user": {
      "displayName": "古川博宣",
      "photoUrl": "",
      "userId": "12458478728571275787"
     },
     "user_tz": -540
    },
    "id": "Tra_cSFWceMQ",
    "outputId": "e1d0621c-1e30-4dc9-aa37-a36fa2a60399",
    "tags": []
   },
   "outputs": [],
   "source": [
    "import re\n",
    "poses = []\n",
    "for m in re.finditer('\\+|-|\\*|/', target):\n",
    "  print(m.span())\n",
    "  poses.append(m.span())"
   ]
  },
  {
   "cell_type": "code",
   "execution_count": null,
   "metadata": {
    "colab": {},
    "colab_type": "code",
    "executionInfo": {
     "elapsed": 632,
     "status": "ok",
     "timestamp": 1593503241673,
     "user": {
      "displayName": "古川博宣",
      "photoUrl": "",
      "userId": "12458478728571275787"
     },
     "user_tz": -540
    },
    "id": "zeRxy8N6cniU"
   },
   "outputs": [],
   "source": [
    "for m in re.finditer('[0-9]+', target):\n",
    "  poses.append(m.span())\n",
    "poses"
   ]
  },
  {
   "cell_type": "code",
   "execution_count": null,
   "metadata": {
    "colab": {
     "base_uri": "https://localhost:8080/",
     "height": 187
    },
    "colab_type": "code",
    "executionInfo": {
     "elapsed": 1189,
     "status": "ok",
     "timestamp": 1593501814037,
     "user": {
      "displayName": "古川博宣",
      "photoUrl": "",
      "userId": "12458478728571275787"
     },
     "user_tz": -540
    },
    "id": "boTViQVod0PK",
    "outputId": "0b5547a6-5892-4e10-f603-c73ba01decc7"
   },
   "outputs": [],
   "source": [
    "poses.sort()\n",
    "poses"
   ]
  },
  {
   "cell_type": "code",
   "execution_count": null,
   "metadata": {
    "colab": {
     "base_uri": "https://localhost:8080/",
     "height": 34
    },
    "colab_type": "code",
    "executionInfo": {
     "elapsed": 929,
     "status": "ok",
     "timestamp": 1593501828801,
     "user": {
      "displayName": "古川博宣",
      "photoUrl": "",
      "userId": "12458478728571275787"
     },
     "user_tz": -540
    },
    "id": "QZ7eVhTxl6Lq",
    "outputId": "1d4f8209-7107-4488-8eb9-82c478bc7639"
   },
   "outputs": [],
   "source": [
    "parts = []\n",
    "for pos in poses:\n",
    "  parts.append(target[pos[0]:pos[1]])\n",
    "parts"
   ]
  },
  {
   "cell_type": "code",
   "execution_count": null,
   "metadata": {
    "colab": {
     "base_uri": "https://localhost:8080/",
     "height": 51
    },
    "colab_type": "code",
    "executionInfo": {
     "elapsed": 514,
     "status": "ok",
     "timestamp": 1593501834589,
     "user": {
      "displayName": "古川博宣",
      "photoUrl": "",
      "userId": "12458478728571275787"
     },
     "user_tz": -540
    },
    "id": "0krIb7Npm19Z",
    "outputId": "9e9b8aad-09cf-4a1d-8ecc-16d4c22cb81c",
    "tags": []
   },
   "outputs": [],
   "source": [
    "no = 0\n",
    "for part in parts:\n",
    "  if part in [\"*\", \"/\"]:\n",
    "    break;   \n",
    "  no = no + 1\n",
    "print(\"find! pos=\" + str(no) + \" [\" + parts[no] + \"]\")\n",
    "\n",
    "newpart = []\n",
    "if parts[no] == \"*\":\n",
    "  newpart.append( int(parts[no-1]) * int(parts[no+1]) )\n",
    "elif parts[no] == \"/\":\n",
    "  newpart.append( int(parts[no-1]) / int(parts[no+1]))\n",
    "print(newpart)\n",
    "\n",
    "newparts = parts[0:no-1] + newpart + parts[no+2:]\n"
   ]
  },
  {
   "cell_type": "code",
   "execution_count": null,
   "metadata": {
    "colab": {
     "base_uri": "https://localhost:8080/",
     "height": 34
    },
    "colab_type": "code",
    "executionInfo": {
     "elapsed": 550,
     "status": "ok",
     "timestamp": 1593501864173,
     "user": {
      "displayName": "古川博宣",
      "photoUrl": "",
      "userId": "12458478728571275787"
     },
     "user_tz": -540
    },
    "id": "SCuUoGLtoOXj",
    "outputId": "589e25ad-dd9b-41c0-b52c-56eba232606e"
   },
   "outputs": [],
   "source": [
    "newparts"
   ]
  },
  {
   "cell_type": "code",
   "execution_count": null,
   "metadata": {
    "colab": {},
    "colab_type": "code",
    "executionInfo": {
     "elapsed": 617,
     "status": "ok",
     "timestamp": 1593501878694,
     "user": {
      "displayName": "古川博宣",
      "photoUrl": "",
      "userId": "12458478728571275787"
     },
     "user_tz": -540
    },
    "id": "8K1aPe0m3dgn"
   },
   "outputs": [],
   "source": [
    "def calc1(in_parts) :\n",
    "  no = 0\n",
    "  find = False\n",
    "  for part in in_parts:\n",
    "    if part in [\"*\", \"/\"]:\n",
    "      find = True\n",
    "      break;\n",
    "    no = no + 1\n",
    "\n",
    "  if not find:\n",
    "    return in_parts, find\n",
    "\n",
    "  newpart = []\n",
    "  if parts[no] == \"*\":\n",
    "    newpart.append( int(parts[no-1]) * int(parts[no+1]) )\n",
    "  elif parts[no] == \"/\":\n",
    "    newpart.append( int(parts[no-1]) / int(parts[no+1]))\n",
    "\n",
    "  newparts = parts[0:no-1] + newpart + parts[no+2:]\n",
    "  return newparts, find\n"
   ]
  },
  {
   "cell_type": "code",
   "execution_count": null,
   "metadata": {
    "colab": {
     "base_uri": "https://localhost:8080/",
     "height": 34
    },
    "colab_type": "code",
    "executionInfo": {
     "elapsed": 640,
     "status": "ok",
     "timestamp": 1593501891716,
     "user": {
      "displayName": "古川博宣",
      "photoUrl": "",
      "userId": "12458478728571275787"
     },
     "user_tz": -540
    },
    "id": "xVKzyWtX_T4R",
    "outputId": "2c7103ff-d1cc-4274-fb83-a4ebb145c8d3"
   },
   "outputs": [],
   "source": [
    "cont = True\n",
    "while cont:\n",
    "  parts, cont = calc1(parts)\n",
    "parts"
   ]
  },
  {
   "cell_type": "code",
   "execution_count": null,
   "metadata": {
    "colab": {
     "base_uri": "https://localhost:8080/",
     "height": 136
    },
    "colab_type": "code",
    "executionInfo": {
     "elapsed": 924,
     "status": "ok",
     "timestamp": 1593501933671,
     "user": {
      "displayName": "古川博宣",
      "photoUrl": "",
      "userId": "12458478728571275787"
     },
     "user_tz": -540
    },
    "id": "ZMmEj4vCA5dO",
    "outputId": "df6c4942-9cdc-4596-e827-c208f7437a16",
    "tags": []
   },
   "outputs": [],
   "source": [
    "value = 0\n",
    "sign = \"\"\n",
    "for part in parts:\n",
    "  if part in [\"+\", \"-\"]:\n",
    "    sign = part\n",
    "  else:\n",
    "    if sign == \"+\":\n",
    "      value = value + int(part)\n",
    "    elif sign == \"-\":\n",
    "      value = value - int(part)\n",
    "    else:\n",
    "      value = int(part)\n",
    "  print(F\"part=[{part}], value=[{value}]\")\n",
    "value"
   ]
  },
  {
   "cell_type": "code",
   "execution_count": null,
   "metadata": {
    "colab": {},
    "colab_type": "code",
    "id": "tLQjrWRYDBpf"
   },
   "outputs": [],
   "source": []
  }
 ],
 "metadata": {
  "colab": {
   "authorship_tag": "ABX9TyOMivfnOtWHRTfO+r6C+5dB",
   "collapsed_sections": [],
   "name": " 4arith.ipynb",
   "provenance": []
  },
  "kernelspec": {
   "display_name": "Python 3",
   "language": "python",
   "name": "python3"
  },
  "language_info": {
   "codemirror_mode": {
    "name": "ipython",
    "version": 3
   },
   "file_extension": ".py",
   "mimetype": "text/x-python",
   "name": "python",
   "nbconvert_exporter": "python",
   "pygments_lexer": "ipython3",
   "version": "3.7.4-final"
  }
 },
 "nbformat": 4,
 "nbformat_minor": 1
}