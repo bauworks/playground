{
 "cells": [
  {
   "cell_type": "code",
   "execution_count": 2,
   "metadata": {
    "colab": {
     "base_uri": "https://localhost:8080/",
     "height": 35
    },
    "colab_type": "code",
    "executionInfo": {
     "elapsed": 996,
     "status": "ok",
     "timestamp": 1593505758668,
     "user": {
      "displayName": "古川博宣",
      "photoUrl": "",
      "userId": "12458478728571275787"
     },
     "user_tz": -540
    },
    "id": "A3TENJ0JcO2F",
    "outputId": "b5852802-fc25-48e4-8911-17573c9e4721"
   },
   "outputs": [
    {
     "data": {
      "text/plain": [
       "'-123+4*5-67/8+90'"
      ]
     },
     "execution_count": 2,
     "metadata": {},
     "output_type": "execute_result"
    }
   ],
   "source": [
    "target = \"-123+4*5-67/8+90\"\n",
    "target"
   ]
  },
  {
   "cell_type": "code",
   "execution_count": 3,
   "metadata": {
    "colab": {
     "base_uri": "https://localhost:8080/",
     "height": 221
    },
    "colab_type": "code",
    "executionInfo": {
     "elapsed": 541,
     "status": "ok",
     "timestamp": 1593505758670,
     "user": {
      "displayName": "古川博宣",
      "photoUrl": "",
      "userId": "12458478728571275787"
     },
     "user_tz": -540
    },
    "id": "Tra_cSFWceMQ",
    "outputId": "9ba1577e-5146-480e-f494-1e9295f82935"
   },
   "outputs": [
    {
     "data": {
      "text/plain": [
       "[(0, 1),\n",
       " (1, 4),\n",
       " (4, 5),\n",
       " (5, 6),\n",
       " (6, 7),\n",
       " (7, 8),\n",
       " (8, 9),\n",
       " (9, 11),\n",
       " (11, 12),\n",
       " (12, 13),\n",
       " (13, 14),\n",
       " (14, 16)]"
      ]
     },
     "execution_count": 3,
     "metadata": {},
     "output_type": "execute_result"
    }
   ],
   "source": [
    "# 数値と演算子を分離する文字位置を求める\n",
    "import re\n",
    "## 通常パターン\n",
    "#poses = []\n",
    "#for m in re.finditer('\\+|-|\\*|/|[0-9]+', target):\n",
    "#  print(m.span())\n",
    "#  poses.append(m.span())\n",
    "\n",
    "## リスト内包表記\n",
    "poses = [m.span() for m in re.finditer('\\+|-|\\*|/|[0-9]+', target)]\n",
    "poses"
   ]
  },
  {
   "cell_type": "code",
   "execution_count": 4,
   "metadata": {
    "colab": {
     "base_uri": "https://localhost:8080/",
     "height": 34
    },
    "colab_type": "code",
    "executionInfo": {
     "elapsed": 815,
     "status": "ok",
     "timestamp": 1593505813859,
     "user": {
      "displayName": "古川博宣",
      "photoUrl": "",
      "userId": "12458478728571275787"
     },
     "user_tz": -540
    },
    "id": "QZ7eVhTxl6Lq",
    "outputId": "1e402216-bbf3-418b-8827-f991c93582f0"
   },
   "outputs": [
    {
     "data": {
      "text/plain": [
       "['-', '123', '+', '4', '*', '5', '-', '67', '/', '8', '+', '90']"
      ]
     },
     "execution_count": 4,
     "metadata": {},
     "output_type": "execute_result"
    }
   ],
   "source": [
    "# 数値と演算子を分離\n",
    "parts = []\n",
    "for pos in poses:\n",
    "  parts.append(target[pos[0]:pos[1]])\n",
    "parts"
   ]
  },
  {
   "cell_type": "code",
   "execution_count": 6,
   "metadata": {
    "colab": {},
    "colab_type": "code",
    "executionInfo": {
     "elapsed": 645,
     "status": "ok",
     "timestamp": 1593505815222,
     "user": {
      "displayName": "古川博宣",
      "photoUrl": "",
      "userId": "12458478728571275787"
     },
     "user_tz": -540
    },
    "id": "8K1aPe0m3dgn"
   },
   "outputs": [],
   "source": [
    "# 先頭から最初に見つかった乗算、除算を計算する関数\n",
    "def maltidiv(in_parts) :\n",
    "  no = 0\n",
    "  for part in in_parts:\n",
    "    if part in [\"*\", \"/\"]:\n",
    "        newpart = []\n",
    "        if parts[no] == \"*\":\n",
    "          newpart.append( float(parts[no-1]) * float(parts[no+1]) )\n",
    "        elif parts[no] == \"/\":\n",
    "          newpart.append( float(parts[no-1]) / float(parts[no+1]))\n",
    "        newparts = parts[0:no-1] + newpart + parts[no+2:]\n",
    "        return newparts, True\n",
    "    no = no + 1\n",
    "  return in_parts, False"
   ]
  },
  {
   "cell_type": "code",
   "execution_count": 7,
   "metadata": {
    "colab": {
     "base_uri": "https://localhost:8080/",
     "height": 68
    },
    "colab_type": "code",
    "executionInfo": {
     "elapsed": 518,
     "status": "ok",
     "timestamp": 1593505816285,
     "user": {
      "displayName": "古川博宣",
      "photoUrl": "",
      "userId": "12458478728571275787"
     },
     "user_tz": -540
    },
    "id": "xVKzyWtX_T4R",
    "outputId": "96b65839-9c19-4334-ab70-0f795872d4be"
   },
   "outputs": [
    {
     "name": "stdout",
     "output_type": "stream",
     "text": [
      "['-', '123', '+', '4', '*', '5', '-', '67', '/', '8', '+', '90']\n",
      "['-', '123', '+', 20.0, '-', '67', '/', '8', '+', '90']\n",
      "['-', '123', '+', 20.0, '-', 8.375, '+', '90']\n"
     ]
    }
   ],
   "source": [
    "# 乗算・除算を実施\n",
    "cont = True\n",
    "while cont:\n",
    "  print(parts)\n",
    "  parts, cont = maltidiv(parts)\n"
   ]
  },
  {
   "cell_type": "code",
   "execution_count": 8,
   "metadata": {
    "colab": {
     "base_uri": "https://localhost:8080/",
     "height": 102
    },
    "colab_type": "code",
    "executionInfo": {
     "elapsed": 941,
     "status": "ok",
     "timestamp": 1593506006487,
     "user": {
      "displayName": "古川博宣",
      "photoUrl": "",
      "userId": "12458478728571275787"
     },
     "user_tz": -540
    },
    "id": "ZMmEj4vCA5dO",
    "outputId": "5f9ade37-3b56-4c20-a20b-bed09c90651d"
   },
   "outputs": [
    {
     "name": "stdout",
     "output_type": "stream",
     "text": [
      "[-][123] => value=[-123.0]\n",
      "[+][20.0] => value=[-103.0]\n",
      "[-][8.375] => value=[-111.375]\n",
      "[+][90] => value=[-21.375]\n"
     ]
    },
    {
     "data": {
      "text/plain": [
       "-21.375"
      ]
     },
     "execution_count": 8,
     "metadata": {},
     "output_type": "execute_result"
    }
   ],
   "source": [
    "# 先頭から最後まで加算・減算を実施\n",
    "value = 0.0\n",
    "sign = \"\"\n",
    "for part in parts:\n",
    "  if part in [\"+\", \"-\"]:\n",
    "    sign = part\n",
    "  else:\n",
    "    if sign == \"+\":\n",
    "      value = value + float(part)\n",
    "      print(F\"[{sign}][{part}] => value=[{value}]\")\n",
    "    elif sign == \"-\":\n",
    "      value = value - float(part)\n",
    "      print(F\"[{sign}][{part}] => value=[{value}]\")\n",
    "    else:\n",
    "      value = float(part)\n",
    "value"
   ]
  },
  {
   "cell_type": "code",
   "execution_count": null,
   "metadata": {
    "colab": {},
    "colab_type": "code",
    "id": "tLQjrWRYDBpf"
   },
   "outputs": [],
   "source": []
  }
 ],
 "metadata": {
  "colab": {
   "authorship_tag": "ABX9TyMfEhUz9LH3loAmUjih/FJ+",
   "collapsed_sections": [],
   "name": " 4arith_rfct.ipynb",
   "provenance": []
  },
  "kernelspec": {
   "display_name": "Python 3",
   "language": "python",
   "name": "python3"
  },
  "language_info": {
   "codemirror_mode": {
    "name": "ipython",
    "version": 3
   },
   "file_extension": ".py",
   "mimetype": "text/x-python",
   "name": "python",
   "nbconvert_exporter": "python",
   "pygments_lexer": "ipython3",
   "version": "3.7.4"
  }
 },
 "nbformat": 4,
 "nbformat_minor": 1
}
