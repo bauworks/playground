{
 "cells": [
  {
   "cell_type": "code",
   "execution_count": null,
   "metadata": {
    "colab": {
     "base_uri": "https://localhost:8080/",
     "height": 35
    },
    "colab_type": "code",
    "executionInfo": {
     "elapsed": 996,
     "status": "ok",
     "timestamp": 1593505758668,
     "user": {
      "displayName": "古川博宣",
      "photoUrl": "",
      "userId": "12458478728571275787"
     },
     "user_tz": -540
    },
    "id": "A3TENJ0JcO2F",
    "outputId": "b5852802-fc25-48e4-8911-17573c9e4721"
   },
   "outputs": [],
   "source": [
    "target = \"-123+4*5-67/8+90\"\n",
    "target"
   ]
  },
  {
   "cell_type": "code",
   "execution_count": null,
   "metadata": {
    "colab": {
     "base_uri": "https://localhost:8080/",
     "height": 34
    },
    "colab_type": "code",
    "executionInfo": {
     "elapsed": 815,
     "status": "ok",
     "timestamp": 1593505813859,
     "user": {
      "displayName": "古川博宣",
      "photoUrl": "",
      "userId": "12458478728571275787"
     },
     "user_tz": -540
    },
    "id": "QZ7eVhTxl6Lq",
    "outputId": "1e402216-bbf3-418b-8827-f991c93582f0"
   },
   "outputs": [],
   "source": [
    "import re\n",
    "# 数値と演算子を分離\n",
    "parts = [target[m.span()[0]:m.span()[1]] \n",
    "          for m in re.finditer('\\+|-|\\*|/|[0-9]+\\.?[0-9]*', target)]\n",
    "parts"
   ]
  },
  {
   "cell_type": "code",
   "execution_count": null,
   "metadata": {
    "colab": {},
    "colab_type": "code",
    "executionInfo": {
     "elapsed": 645,
     "status": "ok",
     "timestamp": 1593505815222,
     "user": {
      "displayName": "古川博宣",
      "photoUrl": "",
      "userId": "12458478728571275787"
     },
     "user_tz": -540
    },
    "id": "8K1aPe0m3dgn"
   },
   "outputs": [],
   "source": [
    "# 先頭から最初に見つかった乗算、除算を計算する関数\n",
    "def maltidiv(in_parts) :\n",
    "  no = 0\n",
    "  for part in in_parts:\n",
    "    if part in [\"*\", \"/\"]:\n",
    "        newpart = []\n",
    "        if parts[no] == \"*\":\n",
    "          newpart.append( float(parts[no-1]) * float(parts[no+1]) )\n",
    "        elif parts[no] == \"/\":\n",
    "          newpart.append( float(parts[no-1]) / float(parts[no+1]))\n",
    "        newparts = parts[0:no-1] + newpart + parts[no+2:]\n",
    "        return newparts, True\n",
    "    no = no + 1\n",
    "  return in_parts, False"
   ]
  },
  {
   "cell_type": "code",
   "execution_count": null,
   "metadata": {
    "colab": {
     "base_uri": "https://localhost:8080/",
     "height": 68
    },
    "colab_type": "code",
    "executionInfo": {
     "elapsed": 518,
     "status": "ok",
     "timestamp": 1593505816285,
     "user": {
      "displayName": "古川博宣",
      "photoUrl": "",
      "userId": "12458478728571275787"
     },
     "user_tz": -540
    },
    "id": "xVKzyWtX_T4R",
    "outputId": "96b65839-9c19-4334-ab70-0f795872d4be",
    "tags": []
   },
   "outputs": [],
   "source": [
    "# 乗算・除算を実施\n",
    "cont = True\n",
    "while cont:\n",
    "  print(parts)\n",
    "  parts, cont = maltidiv(parts)\n"
   ]
  },
  {
   "cell_type": "code",
   "execution_count": null,
   "metadata": {
    "colab": {
     "base_uri": "https://localhost:8080/",
     "height": 102
    },
    "colab_type": "code",
    "executionInfo": {
     "elapsed": 941,
     "status": "ok",
     "timestamp": 1593506006487,
     "user": {
      "displayName": "古川博宣",
      "photoUrl": "",
      "userId": "12458478728571275787"
     },
     "user_tz": -540
    },
    "id": "ZMmEj4vCA5dO",
    "outputId": "5f9ade37-3b56-4c20-a20b-bed09c90651d",
    "tags": []
   },
   "outputs": [],
   "source": [
    "# 先頭から最後まで加算・減算を実施\n",
    "value = 0.0\n",
    "sign = \"\"\n",
    "for part in parts:\n",
    "  if part in [\"+\", \"-\"]:\n",
    "    sign = part\n",
    "  else:\n",
    "    if sign == \"+\":\n",
    "      value = value + float(part)\n",
    "      print(F\"[{sign}][{part}] => value=[{value}]\")\n",
    "    elif sign == \"-\":\n",
    "      value = value - float(part)\n",
    "      print(F\"[{sign}][{part}] => value=[{value}]\")\n",
    "    else:\n",
    "      value = float(part)\n",
    "value"
   ]
  },
  {
   "cell_type": "code",
   "execution_count": null,
   "metadata": {
    "colab": {},
    "colab_type": "code",
    "id": "tLQjrWRYDBpf"
   },
   "outputs": [],
   "source": []
  }
 ],
 "metadata": {
  "colab": {
   "authorship_tag": "ABX9TyMfEhUz9LH3loAmUjih/FJ+",
   "collapsed_sections": [],
   "name": " 4arith_rfct.ipynb",
   "provenance": []
  },
  "kernelspec": {
   "display_name": "Python 3",
   "language": "python",
   "name": "python3"
  },
  "language_info": {
   "codemirror_mode": {
    "name": "ipython",
    "version": 3
   },
   "file_extension": ".py",
   "mimetype": "text/x-python",
   "name": "python",
   "nbconvert_exporter": "python",
   "pygments_lexer": "ipython3",
   "version": "3.7.4-final"
  }
 },
 "nbformat": 4,
 "nbformat_minor": 1
}