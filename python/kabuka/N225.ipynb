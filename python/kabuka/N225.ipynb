{
 "cells": [
  {
   "cell_type": "code",
   "execution_count": null,
   "metadata": {},
   "outputs": [],
   "source": [
    "##Pythonで株価のデータ分析｜株価分析を通してPythonでのデータ分析を学びましょう\n",
    "##https://www.youtube.com/watch?v=0-fZ47QudYo\n",
    "\n",
    "#Pandas DataReaderをインストール\n",
    "!pip install pandas_datareader"
   ]
  },
  {
   "cell_type": "code",
   "execution_count": null,
   "metadata": {},
   "outputs": [],
   "source": [
    "#必要なパッケージをインポート\n",
    "from pandas_datareader import data\n",
    "import pandas as pd\n",
    "import matplotlib.pyplot as plt\n",
    "\n",
    "#ワーニング抑止\n",
    "%matplotlib inline\n",
    "# pd.core.common.is_list_like = pd.api.types.is_list_like"
   ]
  },
  {
   "cell_type": "code",
   "execution_count": null,
   "metadata": {},
   "outputs": [],
   "source": [
    "#期間設定\n",
    "start = '2019-06-01'\n",
    "end = '2020-06-01'\n",
    "\n",
    "#日経225平均を取得\n",
    "df = data.DataReader('^N225', 'yahoo', start, end)"
   ]
  },
  {
   "cell_type": "code",
   "execution_count": null,
   "metadata": {},
   "outputs": [],
   "source": [
    "#先頭10件表示\n",
    "df.head(10)"
   ]
  },
  {
   "cell_type": "code",
   "execution_count": null,
   "metadata": {},
   "outputs": [],
   "source": [
    "#INDEX表示\n",
    "df.index"
   ]
  },
  {
   "cell_type": "code",
   "execution_count": null,
   "metadata": {},
   "outputs": [],
   "source": [
    "#X軸、Y軸のデータを取得\n",
    "date = df.index\n",
    "price = df['Adj Close']"
   ]
  },
  {
   "cell_type": "code",
   "execution_count": null,
   "metadata": {},
   "outputs": [],
   "source": [
    "#グラフを描画\n",
    "plt.plot(date, price)"
   ]
  },
  {
   "cell_type": "code",
   "execution_count": null,
   "metadata": {},
   "outputs": [],
   "source": [
    "##グラフ描画（オプション指定）\n",
    "#グラフサイズ\n",
    "plt.figure(figsize=(30, 10))\n",
    "#グラフを描画\n",
    "plt.plot(date, price, label='Nikkei225')\n",
    "#グラフのスタイル\n",
    "plt.title('N225', color='blue', backgroundcolor='white', size=40, loc='center')\n",
    "plt.xlabel('date', color='black', size=30)\n",
    "plt.ylabel('price', color='black', size=30)\n",
    "\n",
    "#グラフ描画\n",
    "plt.legend()"
   ]
  },
  {
   "cell_type": "code",
   "execution_count": null,
   "metadata": {},
   "outputs": [],
   "source": [
    "#移動平均を求める\n",
    "span01=5\n",
    "span02=25\n",
    "span03=50\n",
    "df['sma01'] = price.rolling(window=span01).mean()\n",
    "df['sma02'] = price.rolling(window=span02).mean()\n",
    "df['sma03'] = price.rolling(window=span03).mean()"
   ]
  },
  {
   "cell_type": "code",
   "execution_count": null,
   "metadata": {},
   "outputs": [],
   "source": [
    "#全行表示出来るようする\n",
    "pd.set_option('display.max_rows', None)\n",
    "#df\n",
    "df.head(20)"
   ]
  },
  {
   "cell_type": "code",
   "execution_count": null,
   "metadata": {},
   "outputs": [],
   "source": [
    "#グラフ描画(移動平均線をグラフに追加)\n",
    "plt.figure(figsize=(30, 10))\n",
    "plt.plot(date, price, label='Nikkei225', color='#99b898')\n",
    "plt.plot(date,df['sma01'], label='sma01', color='#e84a5f')\n",
    "plt.plot(date,df['sma02'], label='sma02', color='#ff847c')\n",
    "plt.plot(date,df['sma03'], label='sma03', color='#feceab')\n",
    "\n",
    "plt.title('N225', color='blue', backgroundcolor='white', size=40, loc='center')\n",
    "plt.xlabel('date', color='black', size=30)\n",
    "plt.ylabel('price', color='black', size=30)\n",
    "\n",
    "plt.legend()"
   ]
  },
  {
   "cell_type": "code",
   "execution_count": null,
   "metadata": {},
   "outputs": [],
   "source": [
    "#出来高のグラフを描画\n",
    "plt.figure(figsize=(30,10))\n",
    "plt.bar(date, df['Volume'], label='Volume', color='grey')\n",
    "\n",
    "plt.legend()"
   ]
  },
  {
   "cell_type": "code",
   "execution_count": null,
   "metadata": {},
   "outputs": [],
   "source": [
    "## N225,移動平均,出来高を一緒に表示してみる\n",
    "#全体サイズ\n",
    "plt.figure(figsize=(30,15))\n",
    "\n",
    "#グラフ-１\n",
    "plt.subplot(2,1,1)   # 縦分割数, 横分割数, 配置位置\n",
    "plt.plot(date, price, label='Nikkei225', color='#99b898')\n",
    "plt.plot(date,df['sma01'], label='sma01', color='#e84a5f')\n",
    "plt.plot(date,df['sma02'], label='sma02', color='#ff847c')\n",
    "plt.plot(date,df['sma03'], label='sma03', color='#feceab')\n",
    "plt.legend()\n",
    "\n",
    "#グラフ-2\n",
    "plt.subplot(2,1,2)\n",
    "plt.bar(date, df['Volume'], label='Volume', color='grey')\n",
    "plt.legend()\n"
   ]
  },
  {
   "cell_type": "code",
   "execution_count": null,
   "metadata": {},
   "outputs": [],
   "source": [
    "#個別銘柄を取得(リクルートホールディングス 6098.JP)\n",
    "df = data.DataReader('6098.JP', 'stooq')\n"
   ]
  },
  {
   "cell_type": "code",
   "execution_count": null,
   "metadata": {},
   "outputs": [],
   "source": [
    "#取得データを確認\n",
    "df.head()"
   ]
  },
  {
   "cell_type": "code",
   "execution_count": null,
   "metadata": {},
   "outputs": [],
   "source": [
    "#一番古いデータ\n",
    "df.index.min()"
   ]
  },
  {
   "cell_type": "code",
   "execution_count": null,
   "metadata": {},
   "outputs": [],
   "source": [
    "#一番新しいデータ\n",
    "df.index.max()"
   ]
  },
  {
   "cell_type": "code",
   "execution_count": null,
   "metadata": {},
   "outputs": [],
   "source": [
    "##降順データを昇順に並び替え\n",
    "#INDEXでソートする（値でソートするならsort_values()）\n",
    "df = df.sort_index()\n",
    "df.head(10)"
   ]
  },
  {
   "cell_type": "code",
   "execution_count": null,
   "metadata": {},
   "outputs": [],
   "source": [
    "##条件指定\n",
    "df.index>='2019-06-01 00:00:00'"
   ]
  },
  {
   "cell_type": "code",
   "execution_count": null,
   "metadata": {},
   "outputs": [],
   "source": [
    "#条件に合うものだけを抽出(2019/6/1 〜 2020/4/30)\n",
    "#df[df.index>='2019-06-01 00:00:00']\n",
    "#df[df.index<='2020-05-01 00:00:00']\n",
    "df[(df.index>='2019-06-01 00:00:00') & (df.index<='2020-05-01 00:00:00')]"
   ]
  },
  {
   "cell_type": "code",
   "execution_count": null,
   "metadata": {},
   "outputs": [],
   "source": [
    "## リクルートホールディングスのグラフを書いてみる\n",
    "df = df[(df.index>='2019-06-01 00:00:00') & (df.index<='2020-05-01 00:00:00')]\n",
    "date = df.index\n",
    "price= df['Close']\n",
    "\n",
    "#移動平均取得\n",
    "span01=5\n",
    "span02=25\n",
    "span03=50\n",
    "df['sma01'] = price.rolling(window=span01).mean()\n",
    "df['sma02'] = price.rolling(window=span02).mean()\n",
    "df['sma03'] = price.rolling(window=span03).mean()\n",
    "\n",
    "plt.figure(figsize=(30,15))\n",
    "\n",
    "#株価\n",
    "plt.subplot(2,1,1)   # 縦分割数, 横分割数, 配置位置\n",
    "plt.plot(date, price, label='Close', color='#99b898')\n",
    "plt.plot(date,df['sma01'], label='sma01', color='#e84a5f')\n",
    "plt.plot(date,df['sma02'], label='sma02', color='#ff847c')\n",
    "plt.plot(date,df['sma03'], label='sma03', color='#feceab')\n",
    "plt.legend()\n",
    "\n",
    "#出来高\n",
    "plt.subplot(2,1,2)\n",
    "plt.bar(date, df['Volume'], label='Volume', color='grey')\n",
    "plt.legend()\n"
   ]
  },
  {
   "cell_type": "code",
   "execution_count": null,
   "metadata": {},
   "outputs": [],
   "source": [
    "## ファーストリテイリング\n",
    "start = '2019-06-01'\n",
    "end = '2020-05-01'\n",
    "company_code = '6502.JP'\n",
    "\n",
    "##グラフを描画\n",
    "#データ取得して範囲を絞り込む\n",
    "df = data.DataReader(company_code, 'stooq')\n",
    "df = df[(df.index>=start) & (df.index<=end)]\n",
    "\n",
    "#X軸、Y軸のデータを抽出\n",
    "date = df.index\n",
    "price= df['Close']\n",
    "\n",
    "#移動平均取得\n",
    "span01=5\n",
    "span02=25\n",
    "span03=50\n",
    "df['sma01'] = price.rolling(window=span01).mean()\n",
    "df['sma02'] = price.rolling(window=span02).mean()\n",
    "df['sma03'] = price.rolling(window=span03).mean()\n",
    "\n",
    "#グラフの大きさを指定\n",
    "plt.figure(figsize=(30,15))\n",
    "\n",
    "#株価グラフ\n",
    "plt.subplot(2,1,1)   # 縦分割数, 横分割数, 配置位置\n",
    "plt.plot(date, price, label='Close', color='#99b898')\n",
    "plt.plot(date,df['sma01'], label='sma01', color='#e84a5f')\n",
    "plt.plot(date,df['sma02'], label='sma02', color='#ff847c')\n",
    "plt.plot(date,df['sma03'], label='sma03', color='#feceab')\n",
    "plt.legend()\n",
    "\n",
    "#出来高グラフ\n",
    "plt.subplot(2,1,2)\n",
    "plt.bar(date, df['Volume'], label='Volume', color='grey')\n",
    "plt.legend()"
   ]
  },
  {
   "cell_type": "code",
   "execution_count": null,
   "metadata": {},
   "outputs": [],
   "source": [
    "##関数にする\n",
    "def company_stock(start, end, company_code):\n",
    "    #範囲を指定してデータ取得\n",
    "    df = data.DataReader(company_code, 'stooq')\n",
    "    df = df[(df.index>=start) & (df.index<=end)]\n",
    "\n",
    "    #X軸、Y軸のデータを抽出\n",
    "    date = df.index\n",
    "    price= df['Close']\n",
    "\n",
    "    #移動平均取得\n",
    "    span01=5\n",
    "    span02=25\n",
    "    span03=50\n",
    "    df['sma01'] = price.rolling(window=span01).mean()\n",
    "    df['sma02'] = price.rolling(window=span02).mean()\n",
    "    df['sma03'] = price.rolling(window=span03).mean()\n",
    "\n",
    "    #グラフの大きさを指定\n",
    "    plt.figure(figsize=(20,10))\n",
    "\n",
    "    #株価グラフ\n",
    "    plt.subplot(2,1,1)   # 縦分割数, 横分割数, 配置位置\n",
    "    plt.plot(date, price, label='Close', color='#99b898')\n",
    "    plt.plot(date,df['sma01'], label='sma01', color='#e84a5f')\n",
    "    plt.plot(date,df['sma02'], label='sma02', color='#ff847c')\n",
    "    plt.plot(date,df['sma03'], label='sma03', color='#feceab')\n",
    "    plt.legend()\n",
    "\n",
    "    #出来高グラフ\n",
    "    plt.subplot(2,1,2)\n",
    "    plt.bar(date, df['Volume'], label='Volume', color='grey')\n",
    "    plt.legend()"
   ]
  },
  {
   "cell_type": "code",
   "execution_count": null,
   "metadata": {},
   "outputs": [],
   "source": [
    "company_stock('2019-06-01', '2020-06-01', '6502.JP')"
   ]
  },
  {
   "cell_type": "code",
   "execution_count": null,
   "metadata": {},
   "outputs": [],
   "source": [
    "company_stock('2017-01-01', '2020-06-01', '6502.JP')"
   ]
  },
  {
   "cell_type": "code",
   "execution_count": null,
   "metadata": {},
   "outputs": [],
   "source": [
    "company_stock('2017-01-01', '2020-06-01', '7203.JP')"
   ]
  },
  {
   "cell_type": "code",
   "execution_count": null,
   "metadata": {},
   "outputs": [],
   "source": [
    "##ゴールデンクロスを求める\n",
    "def company_stock_analyse(start, end, company_code):\n",
    "    #範囲を指定してデータ取得\n",
    "    df = data.DataReader(company_code, 'stooq')\n",
    "    df = df[(df.index>=start) & (df.index<=end)]\n",
    "    df = df.sort_index()\n",
    "\n",
    "    #X軸、Y軸のデータを抽出\n",
    "    date = df.index\n",
    "    price= df['Close']\n",
    "\n",
    "    #移動平均取得\n",
    "    span01=5\n",
    "    span02=25\n",
    "    span03=50\n",
    "    df['sma01'] = price.rolling(window=span01).mean()\n",
    "    df['sma02'] = price.rolling(window=span02).mean()\n",
    "    df['sma03'] = price.rolling(window=span03).mean()\n",
    "    \n",
    "    #GC/DC判定\n",
    "    zero = []\n",
    "    gcdc = []\n",
    "    idx_bf = df.index[0]\n",
    "    for idx in df.index:\n",
    "        if ((df['sma01'][idx] - df['sma01'][idx_bf] > 0) & \n",
    "            (df['sma02'][idx] - df['sma02'][idx_bf] > 0) & \n",
    "            (df['sma01'][idx_bf] - df['sma02'][idx_bf] < 0) &\n",
    "            (df['sma01'][idx] - df['sma02'][idx] > 0)):\n",
    "            gcdc.append(1)\n",
    "        \n",
    "        elif ((df['sma01'][idx] - df['sma01'][idx_bf] < 0) & \n",
    "              (df['sma02'][idx] - df['sma02'][idx_bf] < 0) & \n",
    "              (df['sma01'][idx_bf] - df['sma02'][idx_bf] > 0) &\n",
    "              (df['sma01'][idx] - df['sma02'][idx] < 0)):\n",
    "            gcdc.append(-1)\n",
    "        else:\n",
    "            gcdc.append(0)\n",
    "        \n",
    "        zero.append(0)\n",
    "        idx_bf = idx\n",
    "\n",
    "        \n",
    "    df['gcdc'] = gcdc\n",
    "    df['zero'] = zero\n",
    "\n",
    "    print(df.head(10))\n",
    "\n",
    "    #グラフの大きさを指定\n",
    "    plt.figure(figsize=(20,10))\n",
    "\n",
    "    #株価グラフ\n",
    "    plt.subplot(3,1,1)   # 縦分割数, 横分割数, 配置位置\n",
    "    plt.plot(date, price, label='Close', color='#99b898')\n",
    "    plt.plot(date,df['sma01'], label='sma01', color='#e84a5f')\n",
    "    plt.plot(date,df['sma02'], label='sma02', color='#ff847c')\n",
    "    plt.plot(date,df['sma03'], label='sma03', color='#feceab')#    plt.legend()\n",
    "\n",
    "    #GCDC判定グラフ\n",
    "    plt.subplot(3,1,2)\n",
    "    plt.plot(date, df['gcdc'], label='Golden Cross', color='red')\n",
    "    plt.plot(date, df['zero'], color='gray')\n",
    "    \n",
    "    #出来高グラフ\n",
    "    plt.subplot(3,1,3)\n",
    "    plt.bar(date, df['Volume'], label='Volume', color='grey')\n",
    "\n",
    "    plt.legend()        \n",
    "    \n",
    "        \n",
    "company_stock_analyse('2019-01-01', '2020-06-01', '7203.JP')\n"
   ]
  },
  {
   "cell_type": "code",
   "execution_count": null,
   "metadata": {},
   "outputs": [],
   "source": []
  }
 ],
 "metadata": {
  "kernelspec": {
   "display_name": "Python 3",
   "language": "python",
   "name": "python3"
  },
  "language_info": {
   "codemirror_mode": {
    "name": "ipython",
    "version": 3
   },
   "file_extension": ".py",
   "mimetype": "text/x-python",
   "name": "python",
   "nbconvert_exporter": "python",
   "pygments_lexer": "ipython3",
   "version": "3.7.4-final"
  }
 },
 "nbformat": 4,
 "nbformat_minor": 4
}