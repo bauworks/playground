{
 "cells": [
  {
   "cell_type": "code",
   "execution_count": null,
   "metadata": {
    "tags": []
   },
   "outputs": [],
   "source": [
    "##Pythonで株価のデータ分析｜株価分析を通してPythonでのデータ分析を学びましょう\n",
    "##https://www.youtube.com/watch?v=0-fZ47QudYo\n",
    "\n",
    "#Pandas DataReaderをインストール\n",
    "!pip install pandas_datareader"
   ]
  },
  {
   "cell_type": "code",
   "execution_count": null,
   "metadata": {},
   "outputs": [],
   "source": [
    "#必要なパッケージをインポート\n",
    "from pandas_datareader import data\n",
    "import pandas as pd\n",
    "import matplotlib.pyplot as plt\n",
    "\n",
    "#ワーニング抑止\n",
    "%matplotlib inline\n",
    "# pd.core.common.is_list_like = pd.api.types.is_list_like"
   ]
  },
  {
   "cell_type": "code",
   "execution_count": null,
   "metadata": {},
   "outputs": [],
   "source": [
    "#期間設定\n",
    "start = '2015-06-01'\n",
    "end = '2020-07-01'\n",
    "\n",
    "#日経225平均を取得\n",
    "df = data.DataReader('^N225', 'yahoo', start, end)"
   ]
  },
  {
   "cell_type": "code",
   "execution_count": null,
   "metadata": {},
   "outputs": [],
   "source": [
    "#先頭10件表示\n",
    "df.head(10)"
   ]
  },
  {
   "cell_type": "code",
   "execution_count": null,
   "metadata": {},
   "outputs": [],
   "source": [
    "#INDEX表示\n",
    "df.index"
   ]
  },
  {
   "cell_type": "code",
   "execution_count": null,
   "metadata": {},
   "outputs": [],
   "source": [
    "#X軸、Y軸のデータを取得\n",
    "date = df.index\n",
    "price = df['Adj Close']"
   ]
  },
  {
   "cell_type": "code",
   "execution_count": null,
   "metadata": {},
   "outputs": [],
   "source": [
    "#グラフを描画\n",
    "plt.plot(date, price)"
   ]
  },
  {
   "cell_type": "code",
   "execution_count": null,
   "metadata": {},
   "outputs": [],
   "source": [
    "##グラフ描画（オプション指定）\n",
    "#グラフサイズ\n",
    "plt.figure(figsize=(30, 10))\n",
    "#グラフを描画\n",
    "plt.plot(date, price, label='Nikkei225')\n",
    "#グラフのスタイル\n",
    "plt.title('N225', color='blue', backgroundcolor='white', size=40, loc='center')\n",
    "plt.xlabel('date', color='black', size=30)\n",
    "plt.ylabel('price', color='black', size=30)\n",
    "\n",
    "#グラフ描画\n",
    "plt.legend()"
   ]
  },
  {
   "cell_type": "code",
   "execution_count": null,
   "metadata": {},
   "outputs": [],
   "source": [
    "#移動平均を求める\n",
    "span01=5\n",
    "span02=25\n",
    "span03=50\n",
    "df['sma01'] = price.rolling(window=span01).mean()\n",
    "df['sma02'] = price.rolling(window=span02).mean()\n",
    "df['sma03'] = price.rolling(window=span03).mean()"
   ]
  },
  {
   "cell_type": "code",
   "execution_count": null,
   "metadata": {},
   "outputs": [],
   "source": [
    "#全行表示出来るようする\n",
    "pd.set_option('display.max_rows', None)\n",
    "#df\n",
    "df.head(20)"
   ]
  },
  {
   "cell_type": "code",
   "execution_count": null,
   "metadata": {},
   "outputs": [],
   "source": [
    "#グラフ描画(移動平均線をグラフに追加)\n",
    "plt.figure(figsize=(30, 10))\n",
    "plt.plot(date, price, label='Nikkei225', color='#99b898')\n",
    "plt.plot(date,df['sma01'], label='sma01', color='#e84a5f')\n",
    "plt.plot(date,df['sma02'], label='sma02', color='#ff847c')\n",
    "plt.plot(date,df['sma03'], label='sma03', color='#feceab')\n",
    "\n",
    "plt.title('N225', color='blue', backgroundcolor='white', size=40, loc='center')\n",
    "plt.xlabel('date', color='black', size=30)\n",
    "plt.ylabel('price', color='black', size=30)\n",
    "\n",
    "plt.legend()"
   ]
  },
  {
   "cell_type": "code",
   "execution_count": null,
   "metadata": {},
   "outputs": [],
   "source": [
    "#出来高のグラフを描画\n",
    "plt.figure(figsize=(30,10))\n",
    "plt.bar(date, df['Volume'], label='Volume', color='grey')\n",
    "\n",
    "plt.legend()"
   ]
  },
  {
   "cell_type": "code",
   "execution_count": null,
   "metadata": {},
   "outputs": [],
   "source": [
    "## N225,移動平均,出来高を一緒に表示してみる\n",
    "#全体サイズ\n",
    "plt.figure(figsize=(30,15))\n",
    "\n",
    "#グラフ-１\n",
    "plt.subplot(2,1,1)   # 縦分割数, 横分割数, 配置位置\n",
    "plt.plot(date, price, label='Nikkei225', color='#99b898')\n",
    "plt.plot(date,df['sma01'], label='sma01', color='#e84a5f')\n",
    "plt.plot(date,df['sma02'], label='sma02', color='#ff847c')\n",
    "plt.plot(date,df['sma03'], label='sma03', color='#feceab')\n",
    "plt.legend()\n",
    "\n",
    "#グラフ-2\n",
    "plt.subplot(2,1,2)\n",
    "plt.bar(date, df['Volume'], label='Volume', color='grey')\n",
    "plt.legend()\n"
   ]
  },
  {
   "cell_type": "code",
   "execution_count": null,
   "metadata": {},
   "outputs": [],
   "source": [
    "# ここからSQLITE３でDBを作ってみよう\n",
    "\n",
    "import sqlite3"
   ]
  },
  {
   "cell_type": "code",
   "execution_count": null,
   "metadata": {},
   "outputs": [],
   "source": [
    "dbname = 'STOCK.db'\n",
    "conn = sqlite3.connect(dbname)\n",
    "df.to_sql('N225', conn, if_exists = 'replace')\n",
    "# Option => if_exists　: append, replace, fail\n",
    "conn.close()"
   ]
  },
  {
   "cell_type": "code",
   "execution_count": null,
   "metadata": {},
   "outputs": [],
   "source": [
    "conn = sqlite3.connect(dbname)\n",
    "df_db = pd.read_sql('SELECT * FROM N225', conn)\n",
    "conn.close()"
   ]
  },
  {
   "cell_type": "code",
   "execution_count": null,
   "metadata": {},
   "outputs": [],
   "source": [
    "df_db.tail()"
   ]
  },
  {
   "cell_type": "code",
   "execution_count": null,
   "metadata": {},
   "outputs": [],
   "source": [
    "sql = '''\n",
    "select * from N225\n",
    "where Date between '2020-05-01 00:00:00' and  '2020-05-31 00:00:00'\n",
    "'''"
   ]
  },
  {
   "cell_type": "code",
   "execution_count": null,
   "metadata": {},
   "outputs": [],
   "source": [
    "conn = sqlite3.connect(dbname)\n",
    "df_vlm = pd.read_sql(sql, conn)\n",
    "conn.close()"
   ]
  },
  {
   "cell_type": "code",
   "execution_count": null,
   "metadata": {},
   "outputs": [],
   "source": [
    "df_vlm"
   ]
  },
  {
   "cell_type": "code",
   "execution_count": null,
   "metadata": {},
   "outputs": [],
   "source": [
    "sql = '''\n",
    "select max(Date), Min(Date) from N225\n",
    "--where Date between '2020-05-01 00:00:00' and  '2020-05-31 00:00:00'\n",
    "'''\n",
    "conn = sqlite3.connect(dbname)\n",
    "df_vlm = pd.read_sql(sql, conn)\n",
    "conn.close()"
   ]
  },
  {
   "cell_type": "code",
   "execution_count": null,
   "metadata": {},
   "outputs": [],
   "source": [
    "df_vlm"
   ]
  },
  {
   "cell_type": "code",
   "execution_count": null,
   "metadata": {},
   "outputs": [],
   "source": []
  }
 ],
 "metadata": {
  "kernelspec": {
   "display_name": "Python 3",
   "language": "python",
   "name": "python3"
  },
  "language_info": {
   "codemirror_mode": {
    "name": "ipython",
    "version": 3
   },
   "file_extension": ".py",
   "mimetype": "text/x-python",
   "name": "python",
   "nbconvert_exporter": "python",
   "pygments_lexer": "ipython3",
   "version": "3.7.4-final"
  }
 },
 "nbformat": 4,
 "nbformat_minor": 4
}