{
 "cells": [
  {
   "cell_type": "code",
   "execution_count": 11,
   "metadata": {},
   "outputs": [
    {
     "output_type": "execute_result",
     "data": {
      "text/plain": "      age            job  marital  education default  balance housing loan  \\\n0      30     unemployed  married    primary      no     1787      no   no   \n1      33       services  married  secondary      no     4789     yes  yes   \n2      35     management   single   tertiary      no     1350     yes   no   \n3      30     management  married   tertiary      no     1476     yes  yes   \n4      59    blue-collar  married  secondary      no        0     yes   no   \n...   ...            ...      ...        ...     ...      ...     ...  ...   \n4516   33       services  married  secondary      no     -333     yes   no   \n4517   57  self-employed  married   tertiary     yes    -3313     yes  yes   \n4518   57     technician  married  secondary      no      295      no   no   \n4519   28    blue-collar  married  secondary      no     1137      no   no   \n4520   44   entrepreneur   single   tertiary      no     1136     yes  yes   \n\n       contact  day month  duration  campaign  pdays  previous poutcome   y  \n0     cellular   19   oct        79         1     -1         0  unknown  no  \n1     cellular   11   may       220         1    339         4  failure  no  \n2     cellular   16   apr       185         1    330         1  failure  no  \n3      unknown    3   jun       199         4     -1         0  unknown  no  \n4      unknown    5   may       226         1     -1         0  unknown  no  \n...        ...  ...   ...       ...       ...    ...       ...      ...  ..  \n4516  cellular   30   jul       329         5     -1         0  unknown  no  \n4517   unknown    9   may       153         1     -1         0  unknown  no  \n4518  cellular   19   aug       151        11     -1         0  unknown  no  \n4519  cellular    6   feb       129         4    211         3    other  no  \n4520  cellular    3   apr       345         2    249         7    other  no  \n\n[4521 rows x 17 columns]",
      "text/html": "<div>\n<style scoped>\n    .dataframe tbody tr th:only-of-type {\n        vertical-align: middle;\n    }\n\n    .dataframe tbody tr th {\n        vertical-align: top;\n    }\n\n    .dataframe thead th {\n        text-align: right;\n    }\n</style>\n<table border=\"1\" class=\"dataframe\">\n  <thead>\n    <tr style=\"text-align: right;\">\n      <th></th>\n      <th>age</th>\n      <th>job</th>\n      <th>marital</th>\n      <th>education</th>\n      <th>default</th>\n      <th>balance</th>\n      <th>housing</th>\n      <th>loan</th>\n      <th>contact</th>\n      <th>day</th>\n      <th>month</th>\n      <th>duration</th>\n      <th>campaign</th>\n      <th>pdays</th>\n      <th>previous</th>\n      <th>poutcome</th>\n      <th>y</th>\n    </tr>\n  </thead>\n  <tbody>\n    <tr>\n      <td>0</td>\n      <td>30</td>\n      <td>unemployed</td>\n      <td>married</td>\n      <td>primary</td>\n      <td>no</td>\n      <td>1787</td>\n      <td>no</td>\n      <td>no</td>\n      <td>cellular</td>\n      <td>19</td>\n      <td>oct</td>\n      <td>79</td>\n      <td>1</td>\n      <td>-1</td>\n      <td>0</td>\n      <td>unknown</td>\n      <td>no</td>\n    </tr>\n    <tr>\n      <td>1</td>\n      <td>33</td>\n      <td>services</td>\n      <td>married</td>\n      <td>secondary</td>\n      <td>no</td>\n      <td>4789</td>\n      <td>yes</td>\n      <td>yes</td>\n      <td>cellular</td>\n      <td>11</td>\n      <td>may</td>\n      <td>220</td>\n      <td>1</td>\n      <td>339</td>\n      <td>4</td>\n      <td>failure</td>\n      <td>no</td>\n    </tr>\n    <tr>\n      <td>2</td>\n      <td>35</td>\n      <td>management</td>\n      <td>single</td>\n      <td>tertiary</td>\n      <td>no</td>\n      <td>1350</td>\n      <td>yes</td>\n      <td>no</td>\n      <td>cellular</td>\n      <td>16</td>\n      <td>apr</td>\n      <td>185</td>\n      <td>1</td>\n      <td>330</td>\n      <td>1</td>\n      <td>failure</td>\n      <td>no</td>\n    </tr>\n    <tr>\n      <td>3</td>\n      <td>30</td>\n      <td>management</td>\n      <td>married</td>\n      <td>tertiary</td>\n      <td>no</td>\n      <td>1476</td>\n      <td>yes</td>\n      <td>yes</td>\n      <td>unknown</td>\n      <td>3</td>\n      <td>jun</td>\n      <td>199</td>\n      <td>4</td>\n      <td>-1</td>\n      <td>0</td>\n      <td>unknown</td>\n      <td>no</td>\n    </tr>\n    <tr>\n      <td>4</td>\n      <td>59</td>\n      <td>blue-collar</td>\n      <td>married</td>\n      <td>secondary</td>\n      <td>no</td>\n      <td>0</td>\n      <td>yes</td>\n      <td>no</td>\n      <td>unknown</td>\n      <td>5</td>\n      <td>may</td>\n      <td>226</td>\n      <td>1</td>\n      <td>-1</td>\n      <td>0</td>\n      <td>unknown</td>\n      <td>no</td>\n    </tr>\n    <tr>\n      <td>...</td>\n      <td>...</td>\n      <td>...</td>\n      <td>...</td>\n      <td>...</td>\n      <td>...</td>\n      <td>...</td>\n      <td>...</td>\n      <td>...</td>\n      <td>...</td>\n      <td>...</td>\n      <td>...</td>\n      <td>...</td>\n      <td>...</td>\n      <td>...</td>\n      <td>...</td>\n      <td>...</td>\n      <td>...</td>\n    </tr>\n    <tr>\n      <td>4516</td>\n      <td>33</td>\n      <td>services</td>\n      <td>married</td>\n      <td>secondary</td>\n      <td>no</td>\n      <td>-333</td>\n      <td>yes</td>\n      <td>no</td>\n      <td>cellular</td>\n      <td>30</td>\n      <td>jul</td>\n      <td>329</td>\n      <td>5</td>\n      <td>-1</td>\n      <td>0</td>\n      <td>unknown</td>\n      <td>no</td>\n    </tr>\n    <tr>\n      <td>4517</td>\n      <td>57</td>\n      <td>self-employed</td>\n      <td>married</td>\n      <td>tertiary</td>\n      <td>yes</td>\n      <td>-3313</td>\n      <td>yes</td>\n      <td>yes</td>\n      <td>unknown</td>\n      <td>9</td>\n      <td>may</td>\n      <td>153</td>\n      <td>1</td>\n      <td>-1</td>\n      <td>0</td>\n      <td>unknown</td>\n      <td>no</td>\n    </tr>\n    <tr>\n      <td>4518</td>\n      <td>57</td>\n      <td>technician</td>\n      <td>married</td>\n      <td>secondary</td>\n      <td>no</td>\n      <td>295</td>\n      <td>no</td>\n      <td>no</td>\n      <td>cellular</td>\n      <td>19</td>\n      <td>aug</td>\n      <td>151</td>\n      <td>11</td>\n      <td>-1</td>\n      <td>0</td>\n      <td>unknown</td>\n      <td>no</td>\n    </tr>\n    <tr>\n      <td>4519</td>\n      <td>28</td>\n      <td>blue-collar</td>\n      <td>married</td>\n      <td>secondary</td>\n      <td>no</td>\n      <td>1137</td>\n      <td>no</td>\n      <td>no</td>\n      <td>cellular</td>\n      <td>6</td>\n      <td>feb</td>\n      <td>129</td>\n      <td>4</td>\n      <td>211</td>\n      <td>3</td>\n      <td>other</td>\n      <td>no</td>\n    </tr>\n    <tr>\n      <td>4520</td>\n      <td>44</td>\n      <td>entrepreneur</td>\n      <td>single</td>\n      <td>tertiary</td>\n      <td>no</td>\n      <td>1136</td>\n      <td>yes</td>\n      <td>yes</td>\n      <td>cellular</td>\n      <td>3</td>\n      <td>apr</td>\n      <td>345</td>\n      <td>2</td>\n      <td>249</td>\n      <td>7</td>\n      <td>other</td>\n      <td>no</td>\n    </tr>\n  </tbody>\n</table>\n<p>4521 rows × 17 columns</p>\n</div>"
     },
     "metadata": {},
     "execution_count": 11
    }
   ],
   "source": [
    "import pandas as pd\n",
    "import numpy as np\n",
    "\n",
    "bank_data = pd.read_csv(\"bank.csv\")\n",
    "\n",
    "bank_data"
   ]
  },
  {
   "cell_type": "code",
   "execution_count": 12,
   "metadata": {},
   "outputs": [
    {
     "output_type": "execute_result",
     "data": {
      "text/plain": "'services'"
     },
     "metadata": {},
     "execution_count": 12
    }
   ],
   "source": [
    "bank_data.iloc[1, 1]"
   ]
  },
  {
   "cell_type": "code",
   "execution_count": 13,
   "metadata": {},
   "outputs": [
    {
     "output_type": "execute_result",
     "data": {
      "text/plain": "    age  marital default housing   contact month\n0    30  married      no      no  cellular   oct\n2    35   single      no     yes  cellular   apr\n4    59  married      no     yes   unknown   may\n6    36  married      no     yes  cellular   may\n8    41  married      no     yes   unknown   may\n10   39  married      no     yes   unknown   may",
      "text/html": "<div>\n<style scoped>\n    .dataframe tbody tr th:only-of-type {\n        vertical-align: middle;\n    }\n\n    .dataframe tbody tr th {\n        vertical-align: top;\n    }\n\n    .dataframe thead th {\n        text-align: right;\n    }\n</style>\n<table border=\"1\" class=\"dataframe\">\n  <thead>\n    <tr style=\"text-align: right;\">\n      <th></th>\n      <th>age</th>\n      <th>marital</th>\n      <th>default</th>\n      <th>housing</th>\n      <th>contact</th>\n      <th>month</th>\n    </tr>\n  </thead>\n  <tbody>\n    <tr>\n      <td>0</td>\n      <td>30</td>\n      <td>married</td>\n      <td>no</td>\n      <td>no</td>\n      <td>cellular</td>\n      <td>oct</td>\n    </tr>\n    <tr>\n      <td>2</td>\n      <td>35</td>\n      <td>single</td>\n      <td>no</td>\n      <td>yes</td>\n      <td>cellular</td>\n      <td>apr</td>\n    </tr>\n    <tr>\n      <td>4</td>\n      <td>59</td>\n      <td>married</td>\n      <td>no</td>\n      <td>yes</td>\n      <td>unknown</td>\n      <td>may</td>\n    </tr>\n    <tr>\n      <td>6</td>\n      <td>36</td>\n      <td>married</td>\n      <td>no</td>\n      <td>yes</td>\n      <td>cellular</td>\n      <td>may</td>\n    </tr>\n    <tr>\n      <td>8</td>\n      <td>41</td>\n      <td>married</td>\n      <td>no</td>\n      <td>yes</td>\n      <td>unknown</td>\n      <td>may</td>\n    </tr>\n    <tr>\n      <td>10</td>\n      <td>39</td>\n      <td>married</td>\n      <td>no</td>\n      <td>yes</td>\n      <td>unknown</td>\n      <td>may</td>\n    </tr>\n  </tbody>\n</table>\n</div>"
     },
     "metadata": {},
     "execution_count": 13
    }
   ],
   "source": [
    "bank_data.iloc[:11:2, :11:2]"
   ]
  },
  {
   "cell_type": "code",
   "execution_count": 14,
   "metadata": {},
   "outputs": [
    {
     "output_type": "execute_result",
     "data": {
      "text/plain": "     age            job  marital  education default  balance housing loan  \\\n100   36    blue-collar  married  secondary      no        0     yes   no   \n101   38     management   single   tertiary      no      493     yes   no   \n102   49     technician  married  secondary      no     5996      no   no   \n103   57       services   single    primary      no     3777     yes   no   \n104   34     management   single  secondary      no      524      no   no   \n105   32     management   single   tertiary      no      574     yes   no   \n106   37    blue-collar  married  secondary      no      427     yes  yes   \n107   33  self-employed  married   tertiary      no      483     yes   no   \n108   56     unemployed  married    primary      no     3391      no   no   \n109   27      housemaid  married    primary      no        0     yes   no   \n\n       contact  day  \n100    unknown    6  \n101   cellular   11  \n102  telephone   21  \n103  telephone   13  \n104    unknown   13  \n105   cellular   14  \n106    unknown    9  \n107   cellular    3  \n108   cellular   21  \n109   cellular   23  ",
      "text/html": "<div>\n<style scoped>\n    .dataframe tbody tr th:only-of-type {\n        vertical-align: middle;\n    }\n\n    .dataframe tbody tr th {\n        vertical-align: top;\n    }\n\n    .dataframe thead th {\n        text-align: right;\n    }\n</style>\n<table border=\"1\" class=\"dataframe\">\n  <thead>\n    <tr style=\"text-align: right;\">\n      <th></th>\n      <th>age</th>\n      <th>job</th>\n      <th>marital</th>\n      <th>education</th>\n      <th>default</th>\n      <th>balance</th>\n      <th>housing</th>\n      <th>loan</th>\n      <th>contact</th>\n      <th>day</th>\n    </tr>\n  </thead>\n  <tbody>\n    <tr>\n      <td>100</td>\n      <td>36</td>\n      <td>blue-collar</td>\n      <td>married</td>\n      <td>secondary</td>\n      <td>no</td>\n      <td>0</td>\n      <td>yes</td>\n      <td>no</td>\n      <td>unknown</td>\n      <td>6</td>\n    </tr>\n    <tr>\n      <td>101</td>\n      <td>38</td>\n      <td>management</td>\n      <td>single</td>\n      <td>tertiary</td>\n      <td>no</td>\n      <td>493</td>\n      <td>yes</td>\n      <td>no</td>\n      <td>cellular</td>\n      <td>11</td>\n    </tr>\n    <tr>\n      <td>102</td>\n      <td>49</td>\n      <td>technician</td>\n      <td>married</td>\n      <td>secondary</td>\n      <td>no</td>\n      <td>5996</td>\n      <td>no</td>\n      <td>no</td>\n      <td>telephone</td>\n      <td>21</td>\n    </tr>\n    <tr>\n      <td>103</td>\n      <td>57</td>\n      <td>services</td>\n      <td>single</td>\n      <td>primary</td>\n      <td>no</td>\n      <td>3777</td>\n      <td>yes</td>\n      <td>no</td>\n      <td>telephone</td>\n      <td>13</td>\n    </tr>\n    <tr>\n      <td>104</td>\n      <td>34</td>\n      <td>management</td>\n      <td>single</td>\n      <td>secondary</td>\n      <td>no</td>\n      <td>524</td>\n      <td>no</td>\n      <td>no</td>\n      <td>unknown</td>\n      <td>13</td>\n    </tr>\n    <tr>\n      <td>105</td>\n      <td>32</td>\n      <td>management</td>\n      <td>single</td>\n      <td>tertiary</td>\n      <td>no</td>\n      <td>574</td>\n      <td>yes</td>\n      <td>no</td>\n      <td>cellular</td>\n      <td>14</td>\n    </tr>\n    <tr>\n      <td>106</td>\n      <td>37</td>\n      <td>blue-collar</td>\n      <td>married</td>\n      <td>secondary</td>\n      <td>no</td>\n      <td>427</td>\n      <td>yes</td>\n      <td>yes</td>\n      <td>unknown</td>\n      <td>9</td>\n    </tr>\n    <tr>\n      <td>107</td>\n      <td>33</td>\n      <td>self-employed</td>\n      <td>married</td>\n      <td>tertiary</td>\n      <td>no</td>\n      <td>483</td>\n      <td>yes</td>\n      <td>no</td>\n      <td>cellular</td>\n      <td>3</td>\n    </tr>\n    <tr>\n      <td>108</td>\n      <td>56</td>\n      <td>unemployed</td>\n      <td>married</td>\n      <td>primary</td>\n      <td>no</td>\n      <td>3391</td>\n      <td>no</td>\n      <td>no</td>\n      <td>cellular</td>\n      <td>21</td>\n    </tr>\n    <tr>\n      <td>109</td>\n      <td>27</td>\n      <td>housemaid</td>\n      <td>married</td>\n      <td>primary</td>\n      <td>no</td>\n      <td>0</td>\n      <td>yes</td>\n      <td>no</td>\n      <td>cellular</td>\n      <td>23</td>\n    </tr>\n  </tbody>\n</table>\n</div>"
     },
     "metadata": {},
     "execution_count": 14
    }
   ],
   "source": [
    "bank_data.iloc[100:110, :10]"
   ]
  },
  {
   "cell_type": "code",
   "execution_count": 15,
   "metadata": {},
   "outputs": [
    {
     "output_type": "execute_result",
     "data": {
      "text/plain": "    age  marital default housing   contact month\n0    30  married      no      no  cellular   oct\n2    35   single      no     yes  cellular   apr\n4    59  married      no     yes   unknown   may\n6    36  married      no     yes  cellular   may\n8    41  married      no     yes   unknown   may\n10   39  married      no     yes   unknown   may",
      "text/html": "<div>\n<style scoped>\n    .dataframe tbody tr th:only-of-type {\n        vertical-align: middle;\n    }\n\n    .dataframe tbody tr th {\n        vertical-align: top;\n    }\n\n    .dataframe thead th {\n        text-align: right;\n    }\n</style>\n<table border=\"1\" class=\"dataframe\">\n  <thead>\n    <tr style=\"text-align: right;\">\n      <th></th>\n      <th>age</th>\n      <th>marital</th>\n      <th>default</th>\n      <th>housing</th>\n      <th>contact</th>\n      <th>month</th>\n    </tr>\n  </thead>\n  <tbody>\n    <tr>\n      <td>0</td>\n      <td>30</td>\n      <td>married</td>\n      <td>no</td>\n      <td>no</td>\n      <td>cellular</td>\n      <td>oct</td>\n    </tr>\n    <tr>\n      <td>2</td>\n      <td>35</td>\n      <td>single</td>\n      <td>no</td>\n      <td>yes</td>\n      <td>cellular</td>\n      <td>apr</td>\n    </tr>\n    <tr>\n      <td>4</td>\n      <td>59</td>\n      <td>married</td>\n      <td>no</td>\n      <td>yes</td>\n      <td>unknown</td>\n      <td>may</td>\n    </tr>\n    <tr>\n      <td>6</td>\n      <td>36</td>\n      <td>married</td>\n      <td>no</td>\n      <td>yes</td>\n      <td>cellular</td>\n      <td>may</td>\n    </tr>\n    <tr>\n      <td>8</td>\n      <td>41</td>\n      <td>married</td>\n      <td>no</td>\n      <td>yes</td>\n      <td>unknown</td>\n      <td>may</td>\n    </tr>\n    <tr>\n      <td>10</td>\n      <td>39</td>\n      <td>married</td>\n      <td>no</td>\n      <td>yes</td>\n      <td>unknown</td>\n      <td>may</td>\n    </tr>\n  </tbody>\n</table>\n</div>"
     },
     "metadata": {},
     "execution_count": 15
    }
   ],
   "source": [
    "bank_data.loc[:10:2, [\"age\", \"marital\", \"default\", \"housing\", \"contact\", \"month\"]]"
   ]
  },
  {
   "cell_type": "code",
   "execution_count": null,
   "metadata": {},
   "outputs": [],
   "source": []
  }
 ],
 "metadata": {
  "kernelspec": {
   "display_name": "Python 3",
   "language": "python",
   "name": "python3"
  },
  "language_info": {
   "codemirror_mode": {
    "name": "ipython",
    "version": 3
   },
   "file_extension": ".py",
   "mimetype": "text/x-python",
   "name": "python",
   "nbconvert_exporter": "python",
   "pygments_lexer": "ipython3",
   "version": "3.7.4-final"
  }
 },
 "nbformat": 4,
 "nbformat_minor": 2
}